{
 "cells": [
  {
   "cell_type": "markdown",
   "metadata": {},
   "source": [
    "# Numerical Summary\n",
    "Sometimes, data can be large and difficult to understand. Numerical Summary thus summurizes such data into a single value that is easy to interpret. There are two types of Numerical Summaries:\n",
    "* Measures of Central Tendancy\n",
    "* Measures of Dispersion\n",
    "\n",
    "This notebook explores Measures of Central Tendancy."
   ]
  },
  {
   "cell_type": "markdown",
   "metadata": {},
   "source": [
    "## 1. Measures of Central Tendancy\n",
    "When given a large set of Data, measures of central tendancy tend to estimate the middle ground as a way of summarizing the data. There are three major measures of central tendancy:\n",
    "- The Mean\n",
    "- The Median\n",
    "- The Mode"
   ]
  },
  {
   "cell_type": "markdown",
   "metadata": {},
   "source": [
    "### i. The Mean\n",
    "The mean is simply the average of the data. This is a type of mean called the **arithmetic mean**. There are other types of mean as well, such as the weighted mean and the golden mean. Our main focus will be the arithmetic mean which is simply the average of the data.\n",
    "\n",
    "Given a set of observations, the arithmetic mean is derived by dividing the sum of the observations by the number of observations (N).\n",
    "\n",
    "Observe:"
   ]
  },
  {
   "cell_type": "code",
   "execution_count": 3,
   "metadata": {},
   "outputs": [
    {
     "name": "stdout",
     "output_type": "stream",
     "text": [
      "The average salary of Company A employees is $Error in your data. Ensure all data points are numbers and that of Company B employees is $Error in your data. Ensure all data points are numbers\n"
     ]
    }
   ],
   "source": [
    "# The following data shows the annual salaries of 7 employees in two companies:\n",
    "company_a_salaries = [34500, 30700, 32900, 36000, 34100, 33800, 32500]\n",
    "company_b_salaries = [34900, 27500, 31600, 39700, 35300, 33800, 31700]\n",
    "\n",
    "# Find the mean salary in both companies\n",
    "def get_mean(data: list):\n",
    "    \n",
    "    \"\"\"\n",
    "    When called, this function gets the mean of a list of numbers.\n",
    "    The mean is obtained by dividing the sum of the data by the \n",
    "    number of datapoints (number of observations).\n",
    "    \"\"\"\n",
    "    \n",
    "    mean = (sum(data))/len(data)\n",
    "    return mean\n",
    "\n",
    "company_a_mean_salary = get_mean(company_a_salaries)\n",
    "company_b_mean_salary = get_mean(company_b_salaries)\n",
    "\n",
    "print(f\"The average salary of Company A employees is ${company_a_mean_salary} and that of Company B employees is ${company_b_mean_salary}\")"
   ]
  },
  {
   "cell_type": "markdown",
   "metadata": {},
   "source": [
    "The arithmetic means of both data sets turned out to be identical. \n",
    "\n",
    "Above is an example of a population mean, that is the mean of all the observations. Sometimes, when the population size is too large, we may opt to calculate the mean of a sample - a subset of the population. The sample mean is calculated in the same way as the population mean."
   ]
  },
  {
   "cell_type": "markdown",
   "metadata": {},
   "source": [
    "### ii. The Median\n",
    "The median is simply defined as the middle observance when a set of observances is ordered in ascending order.\n",
    "When calculating the median, one may run into one of these two cases:\n",
    "1. The number of observations (N) is odd.\n",
    "2. The number of observations (N) is even."
   ]
  },
  {
   "cell_type": "code",
   "execution_count": 19,
   "metadata": {},
   "outputs": [
    {
     "name": "stdout",
     "output_type": "stream",
     "text": [
      "The median salary of Company A is 33800 and that of Company B is 33800\n"
     ]
    }
   ],
   "source": [
    "# Find the median of both companies:\n",
    "def get_median(data: list):\n",
    "\n",
    "    data.sort() # This arranges the data in ascending order\n",
    "    \n",
    "    if (len(data)%2) != 0:\n",
    "        median = data[(int((len(data) + 1) / 2) - 1)] \n",
    "        \"\"\"\n",
    "        All we're doing is getting the {(n+1)/2}th value. \n",
    "        I then turn this from a float to an int in order to index it from the list. \n",
    "        I finally subtract 1 because indices usually start from 0, so if I want the 4th item, I should index the 3rd.\n",
    "        \"\"\"\n",
    "\n",
    "    else:\n",
    "        median = (data[(int((len(data)) / 2)) - 1] + data[(int(((len(data)) + 2) / 2)) - 1]) / 2\n",
    "        \"\"\"\n",
    "        Here, I get the {n/2}th value and the {(n+2)/2}th value.\n",
    "        To get the {n/2}th value, I divide the len by 2, then change it from float to int to index it.\n",
    "        I subtract by 1 because of zero indexing. Same goes for the {(n+2)/2}th value.\n",
    "        I then get the mean between the {n/2}th value and the {(n+2)/2}th value to get the median\n",
    "        \"\"\" \n",
    "    \n",
    "    return median\n",
    "\n",
    "company_a_median_salary = get_median(company_a_salaries)\n",
    "company_b_median_salary = get_median(company_b_salaries)\n",
    "\n",
    "print(f\"The median salary of Company A is {company_a_median_salary} and that of Company B is {company_b_median_salary}\")"
   ]
  },
  {
   "cell_type": "markdown",
   "metadata": {},
   "source": [
    "Coincidentally, just like the arithmetic mean, the median of these data sets are identical.\n",
    "\n",
    "The if-else statement checks whether N is even or odd and calculates the mean based on the findings. Both our data sets had the same N, 7, which is odd. What if we had a data set where N is even?"
   ]
  },
  {
   "cell_type": "code",
   "execution_count": 20,
   "metadata": {},
   "outputs": [
    {
     "name": "stdout",
     "output_type": "stream",
     "text": [
      "The mean percentage change in earnings per share is 13.9625% while the median percentage change in earnings per share is 13.95%\n"
     ]
    }
   ],
   "source": [
    "'''\n",
    "A sample of 8 US corporations showed the following percentage changes in earnings per share in the current year\n",
    "compared with the previous year. Find the mean and the median of the percentage change in earnings per share.\n",
    "'''\n",
    "\n",
    "# percentage changes in earnings per share\n",
    "percentage_changes = ['13.6%', '25.5%', '43.6%', '-19.8%', '-13.8%', '12.0%', '36.3%', '14.3%']\n",
    "\n",
    "# Changing the format in order to compute the mean and the median\n",
    "changes = [] # a list without the % and the strings have been turned to numbers\n",
    "\n",
    "for change in percentage_changes:\n",
    "    remove_percentage = change[:-1]\n",
    "    change_to_number = float(remove_percentage)\n",
    "    changes.append(change_to_number)\n",
    "\n",
    "# Compute the Mean\n",
    "sample_mean = get_mean(changes)\n",
    "\n",
    "# Compute the Median\n",
    "median_change = get_median(changes)\n",
    "\n",
    "print(f\"The mean percentage change in earnings per share is {sample_mean}% while the median percentage change in earnings per share is {median_change}%\")"
   ]
  },
  {
   "cell_type": "markdown",
   "metadata": {},
   "source": [
    "This time, the mean and the median aren't identical, but they sure are close. \n",
    "\n",
    "While the mean is the most popular measure of central tendancy, there are times when it is more appropriate to use the median, for example when there are **outliers**. Outliers are extreme values, that is, they are abnormally low or high. Outliers tend to affect the mean. However, the median is rarely affected by outliers."
   ]
  },
  {
   "cell_type": "markdown",
   "metadata": {},
   "source": [
    "### iii. The Mode\n",
    "The mode is simply the observance that occurs the most number of times.\n",
    "\n",
    "Observe:"
   ]
  },
  {
   "cell_type": "code",
   "execution_count": 21,
   "metadata": {},
   "outputs": [
    {
     "name": "stdout",
     "output_type": "stream",
     "text": [
      "15\n"
     ]
    }
   ],
   "source": [
    "\"\"\"\n",
    "A radio manufacturer decided to test radio models for defects. \n",
    "He selected 5 radio models and tested 20 radios from each model.\n",
    "These were the results: \n",
    "\"\"\"\n",
    "\n",
    "results = {\n",
    "    \"Model A\": 3,\n",
    "    \"Model B\": 2,\n",
    "    \"Model C\": 15,\n",
    "    \"Model D\": 0,\n",
    "    \"Model E\": 2\n",
    "    }\n",
    "\n",
    "# Find the modal number of defects\n",
    "def get_mode_dict(data: dict):\n",
    "\n",
    "    list_of_observances = [] # A list of the number of observances gotten from the dictionary\n",
    "\n",
    "    for i in data:\n",
    "        list_of_observances.append(data[i]) # appends the values of the dict into a list\n",
    "\n",
    "    return max(list_of_observances) # Returns the highest number in the list\n",
    "\n",
    "modal_number_of_defects = get_mode_dict(results)\n",
    "print(modal_number_of_defects)\n",
    "        "
   ]
  },
  {
   "cell_type": "markdown",
   "metadata": {},
   "source": [
    "The modal number of defects is 15. And the model that displayed these defects is..."
   ]
  },
  {
   "cell_type": "code",
   "execution_count": 22,
   "metadata": {},
   "outputs": [
    {
     "name": "stdout",
     "output_type": "stream",
     "text": [
      "Model C\n"
     ]
    }
   ],
   "source": [
    "for key, value in results.items():\n",
    "    if value == modal_number_of_defects:\n",
    "        print(key)\n"
   ]
  },
  {
   "attachments": {},
   "cell_type": "markdown",
   "metadata": {},
   "source": [
    "Model C! This was the most defective model with 15 out of the 20 radios having defects!\n",
    "\n",
    "Data may not always present itself as a dictionary (or a JSON file), sometimes, it may just be a simple list. How do we deal with that?"
   ]
  },
  {
   "cell_type": "code",
   "execution_count": 33,
   "metadata": {},
   "outputs": [
    {
     "name": "stdout",
     "output_type": "stream",
     "text": [
      "[2, 4]\n"
     ]
    }
   ],
   "source": [
    "# Getting the mode of a random list\n",
    "\n",
    "random_list = [\n",
    "    2, 4, 2, 5, 3, 2, 4, 6, 2, 6, 2, 5, 4, 2, 4, 5, 8, 2, 8, 6, 3, 4, 4, 3, 2, 7, 7, 5, 1, 6, 8, 6, 7, 7, 8, 4, 7, 4\n",
    "    ]\n",
    "\n",
    "def get_mode(data: list):\n",
    "    list_of_modes = [] # A list was made just incase there is more than one element occur the highest number of times\n",
    "    mode_count = 0 \n",
    "    # The number of times an element occurs is inputed here and compared with the next element.\n",
    "    # The highest number is the one that is stored.\n",
    "\n",
    "    for i in data:\n",
    "        if data.count(i) > mode_count:\n",
    "            list_of_modes = [] # Resets the list when a new high occuring item is found\n",
    "            mode_count = data.count(i) # Counts the number of times an element occurs.\n",
    "            list_of_modes.append(i) # The element is appended to the list iff it occurs the highest number of times\n",
    "\n",
    "        elif data.count(i) == mode_count: # Comes in handy when we have more than one mode\n",
    "            if i in list_of_modes: # Avoids repetition\n",
    "                pass\n",
    "\n",
    "            else:\n",
    "                list_of_modes.append(i) # Appends another element that occurs just as much as the highest element did\n",
    "\n",
    "    return list_of_modes\n",
    "\n",
    "print(get_mode(random_list))"
   ]
  },
  {
   "cell_type": "markdown",
   "metadata": {},
   "source": [
    "The mode is less popular than the mean and the median especially for economists and business people. However, there are still scenarios when it comes in handy like when determining which type of product out of a range of products performed the best."
   ]
  }
 ],
 "metadata": {
  "kernelspec": {
   "display_name": "Python 3.10.8 64-bit (microsoft store)",
   "language": "python",
   "name": "python3"
  },
  "language_info": {
   "codemirror_mode": {
    "name": "ipython",
    "version": 3
   },
   "file_extension": ".py",
   "mimetype": "text/x-python",
   "name": "python",
   "nbconvert_exporter": "python",
   "pygments_lexer": "ipython3",
   "version": "3.10.11"
  },
  "orig_nbformat": 4,
  "vscode": {
   "interpreter": {
    "hash": "5c41cc7a6bf458ae2af5583a7906ef5f402c759b4882f3cbfc8ede19b81b2d2f"
   }
  }
 },
 "nbformat": 4,
 "nbformat_minor": 2
}
