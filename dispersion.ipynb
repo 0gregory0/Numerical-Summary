{
 "cells": [
  {
   "cell_type": "markdown",
   "metadata": {},
   "source": [
    "# Numerical Summary\n",
    "Sometimes, data can be large and difficult to understand. Numerical Summary thus summurizes such data into a single value that is easy to interpret. There are two types of Numerical Summaries:\n",
    "* Measures of Central Tendancy\n",
    "* Measures of Dispersion\n",
    "\n",
    "This notebook explores Measures of Dispersion."
   ]
  },
  {
   "cell_type": "markdown",
   "metadata": {},
   "source": [
    "## 2. Measures of Dispersion\n",
    "When looking at measures of central tendancy, we explored three different ways of estimating the middleground of the data: the mean, the median and the mode. However, for the most part, measures of central tendancy only tell half the story. The other half, measures of dispersion, helps us understand the full story behind the data. As the name suggests, Measures of Dispersions tend to gauge how the data is spread.\n",
    "\n",
    "Take for example when we observed the mean and median salaries of Company A and Company B. While the companies had different salaries, they had the same mean and median. However, the salaries of Company B appeared to be more spread out than those of Company A. Let's explore this with the five measures of dispersion:\n",
    "1. Variance\n",
    "2. Standard Deviation\n",
    "3. Mean Absolute Deviation\n",
    "4. Range\n",
    "5. Quartiles, Deciles and Percentiles."
   ]
  },
  {
   "cell_type": "markdown",
   "metadata": {},
   "source": [
    "### i. Variance\n",
    "Let's return to our two companies. This is how we obtained the averages and coincidentally found out thath they had the same mean."
   ]
  },
  {
   "cell_type": "code",
   "execution_count": 5,
   "metadata": {},
   "outputs": [
    {
     "name": "stdout",
     "output_type": "stream",
     "text": [
      "The average salary of Company A employees is $33500.0 and that of Company B employees is $33500.0\n"
     ]
    }
   ],
   "source": [
    "# The following data shows the annual salaries of 7 employees in two companies:\n",
    "company_a_salaries = [34500, 30700, 32900, 36000, 34100, 33800, 32500]\n",
    "company_b_salaries = [34900, 27500, 31600, 39700, 35300, 33800, 31700]\n",
    "\n",
    "# Find the mean salary in both companies\n",
    "def get_mean(data: list):\n",
    "    mean = (sum(data))/len(data)\n",
    "    return mean\n",
    "\n",
    "company_a_mean_salary = get_mean(company_a_salaries)\n",
    "company_b_mean_salary = get_mean(company_b_salaries)\n",
    "\n",
    "print(f\"The average salary of Company A employees is ${company_a_mean_salary} and that of Company B employees is ${company_b_mean_salary}\")"
   ]
  },
  {
   "cell_type": "markdown",
   "metadata": {},
   "source": [
    "When measuring spread/dispersion, a good place to start would be to determine how far the observances/data points lie from the mean. (x - mean)."
   ]
  },
  {
   "cell_type": "code",
   "execution_count": 6,
   "metadata": {},
   "outputs": [
    {
     "name": "stdout",
     "output_type": "stream",
     "text": [
      "[1000.0, -2800.0, -600.0, 2500.0, 600.0, 300.0, -1000.0]\n"
     ]
    }
   ],
   "source": [
    "company_a_salaries_differences = []\n",
    "\n",
    "for i in company_a_salaries:\n",
    "    company_a_salaries_difference = i-company_a_mean_salary\n",
    "    company_a_salaries_differences.append(company_a_salaries_difference)\n",
    "\n",
    "print(company_a_salaries_differences)"
   ]
  },
  {
   "cell_type": "markdown",
   "metadata": {},
   "source": [
    "As you can see, some data points result to negative while others remain positive. A negative value shows it was lower than the mean, while a positive value depicts that it was higher than the mean. Adding up the values cancels them out and the result will be 0.\n",
    "\n",
    "However, we are not satisfied with the format of the results. You see, we really couldn't care less whether the values were above or below the mean, our main concern is \"by how much?\". Therefore, those signs really don't mean much and we have to get rid of them.There are two ways you can do this, one being squaring. When we square the values, we get rid of the negative signs."
   ]
  },
  {
   "cell_type": "code",
   "execution_count": 7,
   "metadata": {},
   "outputs": [
    {
     "name": "stdout",
     "output_type": "stream",
     "text": [
      "[1000000.0, 7840000.0, 360000.0, 6250000.0, 360000.0, 90000.0, 1000000.0]\n"
     ]
    }
   ],
   "source": [
    "company_a_salaries_squared_differences = []\n",
    "\n",
    "for i in company_a_salaries_differences:\n",
    "    company_a_salaries_squared_differences.append(i ** 2)\n",
    "\n",
    "print(company_a_salaries_squared_differences)"
   ]
  },
  {
   "cell_type": "markdown",
   "metadata": {},
   "source": [
    "The next step would be to get the mean of these squared differences in order to get the average squared difference. Remember, for measures of central tendancy and measures of dispersion, we attempt to summarize large data into a single digit with a meaning. In this case, by getting the mean of these values, we are getting a single value which shows us the average squared deviation (from the central point)."
   ]
  },
  {
   "cell_type": "code",
   "execution_count": 8,
   "metadata": {},
   "outputs": [
    {
     "data": {
      "text/plain": [
       "2414285.714285714"
      ]
     },
     "execution_count": 8,
     "metadata": {},
     "output_type": "execute_result"
    }
   ],
   "source": [
    "get_mean(company_a_salaries_squared_differences)"
   ]
  },
  {
   "cell_type": "markdown",
   "metadata": {},
   "source": [
    "We get a mean squared deviation of ```2,414,285.71...```. This is what we call the variance.\n",
    "\n",
    "Now, let's define a function to get the variance of any list of numbers, so that we can get the variance of company B"
   ]
  },
  {
   "cell_type": "code",
   "execution_count": 9,
   "metadata": {},
   "outputs": [
    {
     "data": {
      "text/plain": [
       "12368571.42857143"
      ]
     },
     "execution_count": 9,
     "metadata": {},
     "output_type": "execute_result"
    }
   ],
   "source": [
    "def get_variance(data: list):\n",
    "    mean = get_mean(data)\n",
    "\n",
    "    deviation = []\n",
    "    deviation_squared = []\n",
    "\n",
    "    for i in data:\n",
    "        deviation.append(i - mean)\n",
    "\n",
    "    for i in deviation:\n",
    "        deviation_squared.append(i ** 2)\n",
    "\n",
    "    variance = get_mean(deviation_squared)\n",
    "\n",
    "    return variance\n",
    "\n",
    "get_variance(company_b_salaries)"
   ]
  },
  {
   "cell_type": "markdown",
   "metadata": {},
   "source": [
    "Company B has a variance of ```12,368,571.42...```. Evidently, Company B has a greater variance than Company A. This shows that the salaries in Company B are more dispersed (spread out) than those in Company A.\n",
    "\n",
    "However, something about variance makes it harder to interpret. The salaries are in thousands of dollars yet their variance is in millions of dollars. This is because we squared some values to get the variance. This makes variance a large digit that is harder to interpret and understand. It is for this reason that we have the *Standard Deviation.*"
   ]
  },
  {
   "cell_type": "markdown",
   "metadata": {},
   "source": [
    "### ii. Standard Deviation\n",
    "As the name suggests, Standard Deviation standardizes the results of the variance (squared deviation) into a more understandable form. It does this by getting the square root of the variance. "
   ]
  },
  {
   "cell_type": "code",
   "execution_count": 15,
   "metadata": {},
   "outputs": [
    {
     "name": "stdout",
     "output_type": "stream",
     "text": [
      "1553.7971921347116\n",
      "3516.8979838163386\n"
     ]
    }
   ],
   "source": [
    "import math\n",
    "\n",
    "def get_stdeviation(data: list):\n",
    "    variance = get_variance(data)\n",
    "    stdeviation = math.sqrt(variance)\n",
    "\n",
    "    return stdeviation\n",
    "\n",
    "print(get_stdeviation(company_a_salaries))\n",
    "print(get_stdeviation(company_b_salaries))"
   ]
  },
  {
   "cell_type": "markdown",
   "metadata": {},
   "source": [
    "The standard deviation of the salaries in Company A is ```1553.79...``` while that of Company B is ```3516.89...```. This confirms that the salaries in Company B are more spread out than those in Company A. In fact, one can infer that the salaries in Company A are averagely spread out by $1553 while those in Company B are roughly spread out by $3516."
   ]
  }
 ],
 "metadata": {
  "kernelspec": {
   "display_name": "Python 3.10.8 64-bit (microsoft store)",
   "language": "python",
   "name": "python3"
  },
  "language_info": {
   "codemirror_mode": {
    "name": "ipython",
    "version": 3
   },
   "file_extension": ".py",
   "mimetype": "text/x-python",
   "name": "python",
   "nbconvert_exporter": "python",
   "pygments_lexer": "ipython3",
   "version": "3.10.11"
  },
  "orig_nbformat": 4,
  "vscode": {
   "interpreter": {
    "hash": "5c41cc7a6bf458ae2af5583a7906ef5f402c759b4882f3cbfc8ede19b81b2d2f"
   }
  }
 },
 "nbformat": 4,
 "nbformat_minor": 2
}
