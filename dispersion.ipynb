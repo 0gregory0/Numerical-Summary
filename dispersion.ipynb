{
 "cells": [
  {
   "cell_type": "markdown",
   "metadata": {},
   "source": [
    "# Numerical Summary\n",
    "Sometimes, data can be large and difficult to understand. Numerical Summary thus summurizes such data into a single value that is easy to interpret. There are two types of Numerical Summaries:\n",
    "* Measures of Central Tendancy\n",
    "* Measures of Dispersion\n",
    "\n",
    "This notebook explores Measures of Dispersion."
   ]
  },
  {
   "cell_type": "markdown",
   "metadata": {},
   "source": [
    "## 2. Measures of Dispersion\n",
    "When looking at measures of central tendancy, we explored three different ways of estimating the middleground of the data: the mean, the median and the mode. However, for the most part, measures of central tendancy only tell half the story. The other half, measures of dispersion, helps us understand the full story behind the data. As the name suggests, Measures of Dispersions tend to gauge how the data is spread.\n",
    "\n",
    "Take for example when we observed the mean and median salaries of Company A and Company B. While the companies had different salaries, they had the same mean and median. However, the salaries of Company B appeared to be more spread out than those of Company A. Let's explore this with the five measures of dispersion:\n",
    "1. Variance\n",
    "2. Standard Deviation\n",
    "3. Mean Absolute Deviation\n",
    "4. Range\n",
    "5. Quartiles, Deciles and Percentiles."
   ]
  },
  {
   "cell_type": "markdown",
   "metadata": {},
   "source": [
    "### i. Variance\n",
    "Let's return to our two companies. This is how we obtained the averages and coincidentally found out thath they had the same mean."
   ]
  },
  {
   "cell_type": "code",
   "execution_count": 5,
   "metadata": {},
   "outputs": [
    {
     "name": "stdout",
     "output_type": "stream",
     "text": [
      "The average salary of Company A employees is $33500.0 and that of Company B employees is $33500.0\n"
     ]
    }
   ],
   "source": [
    "# The following data shows the annual salaries of 7 employees in two companies:\n",
    "company_a_salaries = [34500, 30700, 32900, 36000, 34100, 33800, 32500]\n",
    "company_b_salaries = [34900, 27500, 31600, 39700, 35300, 33800, 31700]\n",
    "\n",
    "# Find the mean salary in both companies\n",
    "def get_mean(data: list):\n",
    "    mean = (sum(data))/len(data)\n",
    "    return mean\n",
    "\n",
    "company_a_mean_salary = get_mean(company_a_salaries)\n",
    "company_b_mean_salary = get_mean(company_b_salaries)\n",
    "\n",
    "print(f\"The average salary of Company A employees is ${company_a_mean_salary} and that of Company B employees is ${company_b_mean_salary}\")"
   ]
  },
  {
   "cell_type": "markdown",
   "metadata": {},
   "source": [
    "When measuring spread/dispersion, a good place to start would be to determine how far the observances/data points lie from the mean. (x - mean)."
   ]
  },
  {
   "cell_type": "code",
   "execution_count": 6,
   "metadata": {},
   "outputs": [
    {
     "name": "stdout",
     "output_type": "stream",
     "text": [
      "[1000.0, -2800.0, -600.0, 2500.0, 600.0, 300.0, -1000.0]\n"
     ]
    }
   ],
   "source": [
    "company_a_salaries_differences = []\n",
    "\n",
    "for i in company_a_salaries:\n",
    "    company_a_salaries_difference = i-company_a_mean_salary\n",
    "    company_a_salaries_differences.append(company_a_salaries_difference)\n",
    "\n",
    "print(company_a_salaries_differences)"
   ]
  },
  {
   "cell_type": "markdown",
   "metadata": {},
   "source": [
    "As you can see, some data points result to negative while others remain positive. A negative value shows it was lower than the mean, while a positive value depicts that it was higher than the mean. Adding up the values cancels them out and the result will be 0.\n",
    "\n",
    "However, we are not satisfied with the format of the results. You see, we really couldn't care less whether the values were above or below the mean, our main concern is \"by how much?\". Therefore, those signs really don't mean much and we have to get rid of them.There are two ways you can do this, one being squaring. When we square the values, we get rid of the negative signs."
   ]
  },
  {
   "cell_type": "code",
   "execution_count": 7,
   "metadata": {},
   "outputs": [
    {
     "name": "stdout",
     "output_type": "stream",
     "text": [
      "[1000000.0, 7840000.0, 360000.0, 6250000.0, 360000.0, 90000.0, 1000000.0]\n"
     ]
    }
   ],
   "source": [
    "company_a_salaries_squared_differences = []\n",
    "\n",
    "for i in company_a_salaries_differences:\n",
    "    company_a_salaries_squared_differences.append(i ** 2)\n",
    "\n",
    "print(company_a_salaries_squared_differences)"
   ]
  },
  {
   "cell_type": "markdown",
   "metadata": {},
   "source": [
    "The next step would be to get the mean of these squared differences in order to get the average squared difference. Remember, for measures of central tendancy and measures of dispersion, we attempt to summarize large data into a single digit with a meaning. In this case, by getting the mean of these values, we are getting a single value which shows us the average squared deviation (from the central point)."
   ]
  },
  {
   "cell_type": "code",
   "execution_count": 8,
   "metadata": {},
   "outputs": [
    {
     "data": {
      "text/plain": [
       "2414285.714285714"
      ]
     },
     "execution_count": 8,
     "metadata": {},
     "output_type": "execute_result"
    }
   ],
   "source": [
    "get_mean(company_a_salaries_squared_differences)"
   ]
  },
  {
   "cell_type": "markdown",
   "metadata": {},
   "source": [
    "We get a mean squared deviation of ```2,414,285.71...```. This is what we call the variance.\n",
    "\n",
    "Now, let's define a function to get the variance of any list of numbers, so that we can get the variance of company B"
   ]
  },
  {
   "cell_type": "code",
   "execution_count": 9,
   "metadata": {},
   "outputs": [
    {
     "data": {
      "text/plain": [
       "12368571.42857143"
      ]
     },
     "execution_count": 9,
     "metadata": {},
     "output_type": "execute_result"
    }
   ],
   "source": [
    "def get_variance(data: list):\n",
    "    \"\"\"\n",
    "    Function: get_variance() -> Gets the variance of a list of numbers\n",
    "    Input: data -> a list of numbers\n",
    "    Output: variance -> a float representing variance\n",
    "\n",
    "    Variance is obtained by:\n",
    "    1. getting the mean of the data\n",
    "    2. getting the differences between the mean and each datapoint\n",
    "    3. squaring these differences\n",
    "    4. getting the mean of the squares differences\n",
    "    \"\"\"\n",
    "\n",
    "    # getting the mean of the data\n",
    "    mean = get_mean(data)\n",
    "\n",
    "    # getting the differences between the mean and each datapoint\n",
    "    deviation = []\n",
    "\n",
    "    # squaring these differences\n",
    "    deviation_squared = []\n",
    "\n",
    "    # using loops to populate the two lists above\n",
    "    for i in data:\n",
    "        deviation.append(i - mean)\n",
    "\n",
    "    for i in deviation:\n",
    "        deviation_squared.append(i ** 2)\n",
    "\n",
    "    # getting the mean of the squared differences\n",
    "    variance = get_mean(deviation_squared)\n",
    "\n",
    "    return variance\n",
    "\n",
    "get_variance(company_b_salaries)"
   ]
  },
  {
   "cell_type": "markdown",
   "metadata": {},
   "source": [
    "Company B has a variance of ```12,368,571.42...```. Evidently, Company B has a greater variance than Company A. This shows that the salaries in Company B are more dispersed (spread out) than those in Company A.\n",
    "\n",
    "However, something about variance makes it harder to interpret. The salaries are in thousands of dollars yet their variance is in millions of dollars. This is because we squared some values to get the variance. This makes variance a large digit that is harder to interpret and understand. It is for this reason that we have the **Standard Deviation.**"
   ]
  },
  {
   "cell_type": "markdown",
   "metadata": {},
   "source": [
    "### ii. Standard Deviation\n",
    "As the name suggests, Standard Deviation standardizes the results of the variance (squared deviation) into a more understandable form. It does this by getting the square root of the variance. We import the ```math``` module to help us with the square root function ```math.sqrt()```"
   ]
  },
  {
   "cell_type": "code",
   "execution_count": 15,
   "metadata": {},
   "outputs": [
    {
     "name": "stdout",
     "output_type": "stream",
     "text": [
      "1553.7971921347116\n",
      "3516.8979838163386\n"
     ]
    }
   ],
   "source": [
    "import math\n",
    "\n",
    "def get_stdeviation(data: list):\n",
    "    \"\"\"\n",
    "    Function: get_stdeviation() -> Get's the standard deviation of a list of data\n",
    "    Input: data -> a list of numbers\n",
    "    Output: stdeviation -> a float representing the standard deviation.\n",
    "\n",
    "    Standard deviation is derived from the square root of the variance of the data\n",
    "    \"\"\"\n",
    "\n",
    "    # getting the variance of the data\n",
    "    variance = get_variance(data)\n",
    "\n",
    "    # getting the square root of the data\n",
    "    stdeviation = math.sqrt(variance)\n",
    "\n",
    "    return stdeviation\n",
    "\n",
    "print(get_stdeviation(company_a_salaries))\n",
    "print(get_stdeviation(company_b_salaries))"
   ]
  },
  {
   "cell_type": "markdown",
   "metadata": {},
   "source": [
    "The standard deviation of the salaries in Company A is ```1553.79...``` while that of Company B is ```3516.89...```. This confirms that the salaries in Company B are more spread out than those in Company A. In fact, one can infer that the salaries in Company A are averagely spread out by $1553 while those in Company B are roughly spread out by $3516."
   ]
  },
  {
   "cell_type": "markdown",
   "metadata": {},
   "source": [
    "### 3. Mean Absolute Deviation (MAD)\n",
    "\n",
    "Just like Variance and Standard Deviation, the Mean Absolute Deviation seeks to measure how datapoints in a data set are spread out using their differences from the mean. This makes the first two sreos of getting the MAD similar to getting Variance and Standard deviation\n",
    "1. Get the mean of the data set\n",
    "2. Get the difference of each data point from the mean (x - mean)\n",
    ".\n",
    ".\n",
    ".\n",
    "Here's where things become different. After getting the differences, no matter how the data set looks like, we'll always end up with positive and negative values. As mentioned earlier, these signs are not a concern to us. We are more concerned with the values which shows us *by how much the data point is from the mean*. \n",
    "\n",
    "While working with Variance and Standard Deviation, we got rid of these (negative) signs by squaring all the values. When it comes to MAD, as the name suggests, we get rid of the (negative) signs by making the values absolute. We then continue with the process of finding the average of the absolute differences which gives us the Mean Absolute Deviation.\n",
    ".\n",
    ".\n",
    ".\n",
    "3. Make the differences absolute\n",
    "4. Get the mean of the absolute differences\n",
    "\n",
    "As a fucntion, the Mean Absolute Deviation would look like this:"
   ]
  },
  {
   "cell_type": "code",
   "execution_count": 21,
   "metadata": {},
   "outputs": [
    {
     "name": "stdout",
     "output_type": "stream",
     "text": [
      "1257.142857142857\n",
      "2771.4285714285716\n"
     ]
    }
   ],
   "source": [
    "def get_mad(data: list):\n",
    "    \"\"\"\n",
    "    Function: get_mad() -> a function that gets the Mean Absolute Deviation (MAD)\n",
    "    Input: data -> a list of numbers\n",
    "    Output: mad -> a float representing the Mean Absolute Deviation (MAD)\n",
    "\n",
    "    The Mean Absolute Deviation is obtained by:\n",
    "    1. Deriving the mean of the data\n",
    "    2. Getting the difference between the mean and each datapoint\n",
    "    3. Making these differences absolute\n",
    "    4. Getting the mean of the absolute differences\n",
    "    \"\"\"\n",
    "\n",
    "    # getting the mean of the data\n",
    "    mean = get_mean(data)\n",
    "\n",
    "    # getting the difference between the mean and each datapoint\n",
    "    absolute_deviation = []\n",
    "    for i in data:\n",
    "        absolute_deviation.append(abs(i - mean))\n",
    "\n",
    "    # getting the mean of the absolute differences\n",
    "    mad = get_mean(absolute_deviation)\n",
    "\n",
    "    return mad\n",
    "\n",
    "print(get_mad(company_a_salaries))\n",
    "print(get_mad(company_b_salaries))"
   ]
  },
  {
   "cell_type": "markdown",
   "metadata": {},
   "source": [
    "### 4. Range\n",
    "This has to be the easiest measure of dispersion. Range is simply the difference between the highest value and the lowest value in a data set. In our salaries example, we can see the difference between the salaries of the highest earner and the lowest earner in a given company. Let's do this by coming up with a function."
   ]
  },
  {
   "cell_type": "code",
   "execution_count": 22,
   "metadata": {},
   "outputs": [
    {
     "name": "stdout",
     "output_type": "stream",
     "text": [
      "5300\n",
      "12200\n"
     ]
    }
   ],
   "source": [
    "def get_range(data: list):\n",
    "    \"\"\"\n",
    "    Function: get_range() -> get's the range of a list of numbers\n",
    "    Input: data -> a list of numbers\n",
    "    Output: the_range -> a number representing the range\n",
    "\n",
    "    The range is obtained by getting the difference between the highest and the lowest number in a list of numbers.\n",
    "    \"\"\"\n",
    "\n",
    "    the_range = max(data) - min(data)\n",
    "    return the_range\n",
    "\n",
    "print(get_range(company_a_salaries))\n",
    "print(get_range(company_b_salaries))"
   ]
  },
  {
   "cell_type": "markdown",
   "metadata": {},
   "source": [
    "The range of salaries in these two companies goes ahead to confirm our findings that the salaries in Company B are more spresad out than those of Company A."
   ]
  }
 ],
 "metadata": {
  "kernelspec": {
   "display_name": "Python 3.10.8 64-bit (microsoft store)",
   "language": "python",
   "name": "python3"
  },
  "language_info": {
   "codemirror_mode": {
    "name": "ipython",
    "version": 3
   },
   "file_extension": ".py",
   "mimetype": "text/x-python",
   "name": "python",
   "nbconvert_exporter": "python",
   "pygments_lexer": "ipython3",
   "version": "3.10.11"
  },
  "orig_nbformat": 4,
  "vscode": {
   "interpreter": {
    "hash": "5c41cc7a6bf458ae2af5583a7906ef5f402c759b4882f3cbfc8ede19b81b2d2f"
   }
  }
 },
 "nbformat": 4,
 "nbformat_minor": 2
}
