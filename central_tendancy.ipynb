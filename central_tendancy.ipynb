{
 "cells": [
  {
   "cell_type": "markdown",
   "metadata": {},
   "source": [
    "# Numerical Summary\n",
    "Sometimes, data can be large and difficult to understand. Numerical Summary thus summurizes such data into a single value that is easy to understand. There are two types of Numerical Summaries:\n",
    "* Measures of Central Tendancy\n",
    "* Measures of Dispersion"
   ]
  },
  {
   "cell_type": "markdown",
   "metadata": {},
   "source": [
    "## 1. Measures of Central Tendancy\n",
    "When given a large set of Data, measures of central tendancy tend to estimate the middle ground as a way of summarizing the data. There are three major measures of central tendancy:\n",
    "- The Mean\n",
    "- The Median\n",
    "- The Mode"
   ]
  },
  {
   "cell_type": "markdown",
   "metadata": {},
   "source": [
    "### i. The Mean\n",
    "The mean is simply the average of the data. This is a type of mean called the **arithmetic mean**. There are other types of mean as well, such as the weighted mean and the golden mean. Our main focus will be the arithmetic mean which is simply the average of the data.\n",
    "\n",
    "Given a set of observations, the arithmetic mean is derived by dividing the sum of the observations by the number of observations (N).\n",
    "\n",
    "Observe:"
   ]
  },
  {
   "cell_type": "code",
   "execution_count": 27,
   "metadata": {},
   "outputs": [
    {
     "name": "stdout",
     "output_type": "stream",
     "text": [
      "The average salary of Company A employees is $33500.0 and that of Company B employees is $33500.0\n"
     ]
    }
   ],
   "source": [
    "# The following data shows the annual salaries of 7 employees in two companies:\n",
    "company_a_salaries = [34500, 30700, 32900, 36000, 34100, 33800, 32500]\n",
    "company_b_salaries = [34900, 27500, 31600, 39700, 35300, 33800, 31700]\n",
    "\n",
    "# Find the mean salary in both companies\n",
    "def get_mean(data: list):\n",
    "    mean = (sum(data))/len(data)\n",
    "    return mean\n",
    "\n",
    "company_a_mean_salary = get_mean(company_a_salaries)\n",
    "company_b_mean_salary = get_mean(company_b_salaries)\n",
    "\n",
    "print(f\"The average salary of Company A employees is ${company_a_mean_salary} and that of Company B employees is ${company_b_mean_salary}\")"
   ]
  },
  {
   "cell_type": "markdown",
   "metadata": {},
   "source": [
    "The arithmetic means of both data sets turned out to be identical. \n",
    "\n",
    "Above is an example of a population mean, that is the mean of all the observations. Sometimes, when the population size is too large, we may opt to calculate the mean of a sample - a subset of the population. The sample mean is calculated in the same way as the population mean."
   ]
  },
  {
   "cell_type": "markdown",
   "metadata": {},
   "source": [
    "### 2. The Median\n",
    "The median is simply defined as the middle observance when a set of observances is ordered in ascending order.\n",
    "When calculating the median, one may run into one of these two cases:\n",
    "1. The number of observations (N) is odd.\n",
    "2. The number of observations (N) is even."
   ]
  },
  {
   "cell_type": "code",
   "execution_count": 28,
   "metadata": {},
   "outputs": [
    {
     "name": "stdout",
     "output_type": "stream",
     "text": [
      "The median salary of Company A is 33800 and that of Company B is 33800\n"
     ]
    }
   ],
   "source": [
    "# Find the median of both companies:\n",
    "def get_median(data: list):\n",
    "\n",
    "    data.sort()\n",
    "    \n",
    "    if (len(data)%2) != 0:\n",
    "        median = data[(int((len(data) + 1) / 2) - 1)] # All we're doing is getting the {(n+1)/2}th value. I then turn this from a float to an int. I finally subtract 1 because I'm indexing.\n",
    "\n",
    "    else:\n",
    "        median = (data[(int((len(data)) / 2)) - 1] + data[(int(((len(data)) + 2) / 2)) - 1]) / 2 # Here, I get the mean of the {n/2}th value and the {(n+2)/2}th value. Then carry out the same process as above.\n",
    "    \n",
    "    return median\n",
    "\n",
    "company_a_median_salary = get_median(company_a_salaries)\n",
    "company_b_median_salary = get_median(company_b_salaries)\n",
    "\n",
    "print(f\"The median salary of Company A is {company_a_median_salary} and that of Company B is {company_b_median_salary}\")"
   ]
  },
  {
   "cell_type": "markdown",
   "metadata": {},
   "source": [
    "Coincidentally, just like the arithmetic mean, the median of these data sets are identical.\n",
    "\n",
    "The if-else statement checks whether N is even or odd and calculates the mean based on the findings. Both our data sets had the same N, 7, which is odd. What if we had a data set where N is even?"
   ]
  },
  {
   "cell_type": "code",
   "execution_count": 30,
   "metadata": {},
   "outputs": [
    {
     "name": "stdout",
     "output_type": "stream",
     "text": [
      "The mean percentage change in earnings per share is 13.9625% while the median percentage change in earnings per share is 13.95%\n"
     ]
    }
   ],
   "source": [
    "'''\n",
    "A sample of 8 US corporations showed the following percentage changes in earnings per share in the current year\n",
    "compared with the previous year. Find the mean and the median of the percentage change in earnings per share.\n",
    "'''\n",
    "\n",
    "# percentage changes in earnings per share\n",
    "percentage_changes = ['13.6%', '25.5%', '43.6%', '-19.8%', '-13.8%', '12.0%', '36.3%', '14.3%']\n",
    "\n",
    "# Changing the format in order to compute the mean and the median\n",
    "changes = [] # a list without the % and the strings have been turned to numberss\n",
    "\n",
    "for change in percentage_changes:\n",
    "    remove_percentage = change[:-1]\n",
    "    change_to_number = float(remove_percentage)\n",
    "    changes.append(change_to_number)\n",
    "\n",
    "# Compute the Mean\n",
    "sample_mean = get_mean(changes)\n",
    "\n",
    "# Compute the Median\n",
    "median_change = get_median(changes)\n",
    "\n",
    "print(f\"The mean percentage change in earnings per share is {sample_mean}% while the median percentage change in earnings per share is {median_change}%\")"
   ]
  },
  {
   "cell_type": "markdown",
   "metadata": {},
   "source": [
    "This time, the mean and the median aren't identical, but they sure are close. While the mean is the most popular measure of central tendancy, there are times when it is more appropriate to use the median... eg, continue tomorrow!"
   ]
  }
 ],
 "metadata": {
  "kernelspec": {
   "display_name": "Python 3.10.8 64-bit (microsoft store)",
   "language": "python",
   "name": "python3"
  },
  "language_info": {
   "codemirror_mode": {
    "name": "ipython",
    "version": 3
   },
   "file_extension": ".py",
   "mimetype": "text/x-python",
   "name": "python",
   "nbconvert_exporter": "python",
   "pygments_lexer": "ipython3",
   "version": "3.10.8"
  },
  "orig_nbformat": 4,
  "vscode": {
   "interpreter": {
    "hash": "5c41cc7a6bf458ae2af5583a7906ef5f402c759b4882f3cbfc8ede19b81b2d2f"
   }
  }
 },
 "nbformat": 4,
 "nbformat_minor": 2
}
