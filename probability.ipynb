{
 "cells": [
  {
   "cell_type": "markdown",
   "metadata": {},
   "source": [
    "# Probability\n",
    "Let's get a few terms right first.\n",
    "\n",
    "A **random experiment** is any activity, procedure or process that may lead to more than one outcome with uncertainty as to which outcome will occur. Examples of random experiments include rolling a die or tossing a coin. You can't tell for sure which outcome will occur.\n",
    "\n",
    "A **sample space** is a set of all possible outcomes of a random experiment. For example the sample space, denoted by **S**, of rolling a die is:\n",
    "\n",
    "S = {1, 2, 3, 4, 5, 6}\n",
    "\n",
    "A  **Basic Outcome** refers to a single element in the sample space. One such basic outcome from rolling a die may be 4. Other basic outcomes include 1, 2, 3, 5, and 6.\n",
    "\n",
    "An **Event**, often denoted by a capital letter such as E, A, B etc, is a subset of the sample space that contains a basic outcome or a set of basic outcomes that we're interested in. For example, when rolling a die, you may be interested in:\n",
    "\n",
    "- The event that it is a 4:\n",
    "    - A = {4}\n",
    "\n",
    "- The event that it is an odd number:\n",
    "    - B = {1, 3, 5}\n",
    "\n",
    "Therefore, **probability** is the measure of chance of the occurence of an event during a random experiment.\n",
    "\n",
    "Conventional probability is calculated by dividing the number of observations by the total occurences. Let's see it in code."
   ]
  },
  {
   "cell_type": "markdown",
   "metadata": {},
   "source": [
    "## The Probability Function"
   ]
  },
  {
   "cell_type": "code",
   "execution_count": 1,
   "metadata": {},
   "outputs": [],
   "source": [
    "# PROBABILITY FUNCTION\n",
    "\n",
    "def probability(successful_observations, total_observations):\n",
    "\n",
    "    \"\"\"\n",
    "    Function: probability() -> Given the number of observations and the number of successes, this function derives the probability of a successful observation.\n",
    "    Arguments: successful_observations, total_observations -> both of these arguments should be numbers (ints or floats)\n",
    "    Output: probability -> the probability of success which ranges from 0 to 1 (inclusive)\n",
    "    \"\"\"\n",
    "\n",
    "    probability = successful_observations/total_observations\n",
    "\n",
    "    if probability > 1:\n",
    "        raise ValueError(\"Probabilities cannot be greater than one.\")\n",
    "    \n",
    "    elif probability < 0:\n",
    "        raise ValueError(\"Probabilities cannot be less than zero (negative)\")\n",
    "    \n",
    "    else:\n",
    "        return probability"
   ]
  },
  {
   "cell_type": "markdown",
   "metadata": {},
   "source": [
    "I decided to raise an error when probability is greater than 1 or less than 0 because probability can only lie in the range of 0 to 1. (0 <= probability <= 1).\n",
    "\n",
    "Now let's implement a sample space class."
   ]
  },
  {
   "cell_type": "markdown",
   "metadata": {},
   "source": [
    "## The Sample Space Class"
   ]
  },
  {
   "cell_type": "code",
   "execution_count": 2,
   "metadata": {},
   "outputs": [],
   "source": [
    "# SAMPLE SPACE CLASS\n",
    "    \n",
    "class SampleSpace(set):\n",
    "    \"\"\"\n",
    "    Class -> SampleSpace\n",
    "\n",
    "    Attributes -> sample_space, probability = 1, cardinality\n",
    "\n",
    "    Methods -> get_sample_space(): returns the set of basic outcomes\n",
    "\n",
    "    SampleSpace is a class that represents the sample space of a random experiment.\n",
    "    It inherits from the set class since a sample space is a set of basic outcomes.\n",
    "    A sample space cannot change mid experiment, therefore, you cannot change a\n",
    "    SampleSpace object once declared (There are no setter methods).\n",
    "\n",
    "    It's attributes include:\n",
    "\n",
    "    self.sample_space -> the set of basic outcomes\n",
    "\n",
    "    self.probability -> the probability of getting one outcome from the sample\n",
    "    space during an experiment. This is always 1\n",
    "\n",
    "    self.size -> the number of basic outcomes [the len() of the set]\n",
    "    \"\"\"\n",
    "\n",
    "    def __init__(self, sample_space: set):\n",
    "        self.sample_space = sample_space\n",
    "        self.probability = 1\n",
    "        self.size = len(self.sample_space)\n",
    "\n",
    "    def get_sample_space(self):\n",
    "        \"\"\"\n",
    "        SampleSpace method -> returns the set of basic outcomes (sample space). Arguments: None.\n",
    "        \"\"\"\n",
    "        return self.sample_space"
   ]
  },
  {
   "cell_type": "markdown",
   "metadata": {},
   "source": [
    "As mentioned earlier, a sample space is a set, that's why I let it inherit from the `set` class.\n",
    "The probability of a sample space is always 1 showing that something within the sample space must happen.\n",
    "The size of the sample space refers to the number of basic outcomes in the sample space.\n",
    "\n",
    "This class only has one method, a getter method to display the sample space set.\n",
    "I did not implement any setter method because a sample space shoulldn't change mid-experiment.\n",
    "\n",
    "Now let's implement an Event class, a subset of sample spaces."
   ]
  },
  {
   "cell_type": "markdown",
   "metadata": {},
   "source": [
    "## The Event Class"
   ]
  },
  {
   "cell_type": "code",
   "execution_count": 3,
   "metadata": {},
   "outputs": [],
   "source": [
    "# EVENT CLASS\n",
    "\n",
    "class Event(set):\n",
    "    \"\"\"\n",
    "    Class -> Event\n",
    "    Attributes -> event\n",
    "    Methods -> get_event(), set_event(), union(), intersect()\n",
    "\n",
    "    Event is a Class designed to mimick a subset of a sample space.\n",
    "    Just like the SampleSpace class, it inherits from a set, as events are also sets.\n",
    "\n",
    "    Attributes:\n",
    "\n",
    "    self.event -> a set (meant to be a subset of a sample space)\n",
    "\n",
    "    Methods:\n",
    "\n",
    "    This class has one getter method [get_event()] and one setter\n",
    "    method[set_event()]\n",
    "\n",
    "    It also has a union() and an intersect() event that derives new sets by\n",
    "    obtaining the union or the intersection, respectively, of two sets.\n",
    "\n",
    "    The prob() method is used to derive the probability of the event occuring\n",
    "    from the sample space. \n",
    "    \n",
    "    Arguments:\n",
    "    sample_space -> a sample space of type SampleSpace ought to be provided.\n",
    "    This is mandatory.\n",
    "\n",
    "    compound -> this is an optional argument that specifies whether the event\n",
    "    is a compound event. It defaults to None. Possibe values are \"or\" (which\n",
    "    applies the addition rule of probabilities) & \"and\" (which applies the\n",
    "    multiplication rule). If compound is set to None and there is more than one\n",
    "    basic outcome in the event, it will return a list of probabilities of each\n",
    "    outcome.\n",
    "    \"\"\"\n",
    "    def __init__(self, event: set):\n",
    "        self.event = event\n",
    "\n",
    "    def get_event(self):\n",
    "        \"\"\"\n",
    "        Event method -> returns a subset of the sample space (an event)\n",
    "        \"\"\"\n",
    "        return self.event\n",
    "    \n",
    "    def set_event(self, new_event):\n",
    "        self.event = new_event\n",
    "\n",
    "    # def union(self, event):\n",
    "    #     return self.event.union(event)\n",
    "    \n",
    "    # def intersect(self, event):\n",
    "    #     return self.event.intersection(event)\n",
    "\n",
    "    def prob(self, sample_space: SampleSpace, compound = None):\n",
    "        prob_list = []\n",
    "        if compound == None:\n",
    "            for i in self.event:\n",
    "                prob_list.append(probability(1, sample_space.size))\n",
    "            \n",
    "            if len(prob_list) == 1:\n",
    "                return prob_list[0]\n",
    "            else:\n",
    "                return prob_list\n",
    "        elif compound == \"or\":\n",
    "            for i in self.event:\n",
    "                prob_list.append(probability(1, sample_space.size))\n",
    "            return sum(prob_list)\n",
    "        elif compound == \"and\":\n",
    "            prob = 1\n",
    "            for i in self.event:\n",
    "                prob *= probability(1, sample_space.size)\n",
    "            return prob\n",
    "        else:\n",
    "            raise Exception(\" The optional argument type can only take 3 values: None, 'or', 'and' \")"
   ]
  },
  {
   "cell_type": "markdown",
   "metadata": {},
   "source": [
    "Just like the `SampleSpace` class, the `Event` class also inherits from the `set` class because it is a set of basic outcomes (and a subset of the sample space).\n",
    "\n",
    "The `Event` class has only one getter method, `get_event()`, which returns the event. Unlike the `SampleSpace` class, the `Event` class also has a setter method, `set_event()`, that alters the event instance into a new event. This method takes only one argument, which is the new event that you'd like to set your current event to.\n",
    "\n",
    "Events have probabilities, just like sample spaces. However, unlike sample spaces, the probabilities of events are not always set to one. They can range anywhere between 0 and 1 (inclusive of the extremes). To determine the probability of an event, one must know two things:\n",
    "1. The probability of each basic outcome within the event.\n",
    "2. The relationship between the basic outcomes within the event.\n",
    "\n",
    "To determine the probability oe each basic outcome, I used the `probability()` function we created earlier using `1` and `sample_space.size` as the arguments. `1` because a basic outcome only occurs once in a **`set`** of events.\n",
    "\n",
    "What is meant by \"The relationship between the basic outcomes within the event\"? The relationship in question is whether the basic outcomes are a union or intersect. When they are a union, the term \"or\" is often used to refer to them, for example when rolling a die and we are interested in getting a 5 or a 6, then we are interested in a union of basic outcomes and addition is used. When rolling a die twice, and you are interested in getting a 5 and a 6, then we are interested in the intersection of basic outcomes and multiplication is used.\n",
    "\n",
    "That's why the `prob()` method has two arguments, one of which is optional. The first argument is the sample space. This helps link the event to its sample space which is its superset. The second argument \"compound\"  which describes the relationship between the basic outcomes. Are they in a union (or) relationship or an intersect (and) relationship. When not specified, it defaults to None and `prob()` returns the probabilities of each basic outcome as opposed to the probability of the event.\n",
    "\n",
    "That's enough theorizing, let's test the code to see if it works as expected!"
   ]
  },
  {
   "cell_type": "markdown",
   "metadata": {},
   "source": [
    "## Tests"
   ]
  },
  {
   "cell_type": "code",
   "execution_count": 4,
   "metadata": {},
   "outputs": [
    {
     "name": "stdout",
     "output_type": "stream",
     "text": [
      "0.3\n",
      "0.05\n"
     ]
    }
   ],
   "source": [
    "print(probability(3, 10))\n",
    "print(probability(50, 1000))"
   ]
  },
  {
   "cell_type": "code",
   "execution_count": 5,
   "metadata": {},
   "outputs": [
    {
     "name": "stdout",
     "output_type": "stream",
     "text": [
      "1\n",
      "0.16666666666666666\n",
      "[0.16666666666666666, 0.16666666666666666]\n",
      "0.3333333333333333\n",
      "0.027777777777777776\n",
      "0.5\n"
     ]
    }
   ],
   "source": [
    "die = SampleSpace({1,2,3,4,5,6})\n",
    "event1 = Event({4})\n",
    "event2 = Event({4,5})\n",
    "event3 = Event({2, 4, 6})\n",
    "\n",
    "print(die.probability)\n",
    "print(event1.prob(die))\n",
    "print(event2.prob(die))\n",
    "print(event2.prob(die, \"or\"))\n",
    "print(event2.prob(die, \"and\"))\n",
    "print(event3.prob(die, \"or\"))"
   ]
  },
  {
   "cell_type": "code",
   "execution_count": 6,
   "metadata": {},
   "outputs": [
    {
     "name": "stdout",
     "output_type": "stream",
     "text": [
      "1\n",
      "0.5\n",
      "0.5\n",
      "0.5\n",
      "0.5\n",
      "[0.5, 0.5]\n",
      "0.25\n",
      "1.0\n"
     ]
    }
   ],
   "source": [
    "coin = SampleSpace({\"H\", \"T\"})\n",
    "event1 = Event({\"H\"})\n",
    "event2 = Event({\"T\"})\n",
    "event3 = Event({\"H\", \"T\"})\n",
    "\n",
    "print(coin.probability)\n",
    "print(event1.prob(coin, \"or\"))\n",
    "print(event2.prob(coin, \"and\"))\n",
    "print(event1.prob(coin))\n",
    "print(event2.prob(coin))\n",
    "print(event3.prob(coin))\n",
    "print(event3.prob(coin, \"and\"))\n",
    "print(event3.prob(coin, \"or\"))"
   ]
  }
 ],
 "metadata": {
  "kernelspec": {
   "display_name": "Python 3",
   "language": "python",
   "name": "python3"
  },
  "language_info": {
   "codemirror_mode": {
    "name": "ipython",
    "version": 3
   },
   "file_extension": ".py",
   "mimetype": "text/x-python",
   "name": "python",
   "nbconvert_exporter": "python",
   "pygments_lexer": "ipython3",
   "version": "3.11.2"
  }
 },
 "nbformat": 4,
 "nbformat_minor": 2
}
