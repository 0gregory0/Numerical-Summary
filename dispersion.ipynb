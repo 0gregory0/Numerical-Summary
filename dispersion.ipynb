{
 "cells": [
  {
   "cell_type": "markdown",
   "metadata": {},
   "source": [
    "# Numerical Summary\n",
    "Sometimes, data can be large and difficult to understand. Numerical Summary thus summurizes such data into a single value that is easy to interpret. There are two types of Numerical Summaries:\n",
    "* Measures of Central Tendancy\n",
    "* Measures of Dispersion\n",
    "\n",
    "This notebook explores Measures of Dispersion."
   ]
  },
  {
   "cell_type": "markdown",
   "metadata": {},
   "source": [
    "## 2. Measures of Dispersion\n",
    "When looking at measures of central tendancy, we explored three different ways of estimating the middleground of the data: the mean, the median and the mode. However, for the most part, measures of central tendancy only tell half the story. The other half, measures of dispersion, helps us understand the full story behind the data. As the name suggests, Measures of Dispersions tend to gauge how the data is spread.\n",
    "\n",
    "Take for example when we observed the mean and median salaries of Company A and Company B. While the companies had different salaries, they had the same mean and median. However, the salaries of Company B appeared to be more spread out than those of Company A. Let's explore this with the five measures of dispersion:\n",
    "1. Variance\n",
    "2. Standard Deviation\n",
    "3. Mean Absolute Deviation\n",
    "4. Range\n",
    "5. Quartiles, Deciles and Percentiles."
   ]
  },
  {
   "cell_type": "markdown",
   "metadata": {},
   "source": [
    "### i. Variance\n",
    "Let's return to our two companies. This is how we obtained the averages and coincidentally found out thath they had the same mean."
   ]
  },
  {
   "cell_type": "code",
   "execution_count": 2,
   "metadata": {},
   "outputs": [
    {
     "name": "stdout",
     "output_type": "stream",
     "text": [
      "The average salary of Company A employees is $33500.0 and that of Company B employees is $33500.0\n"
     ]
    }
   ],
   "source": [
    "# The following data shows the annual salaries of 7 employees in two companies:\n",
    "company_a_salaries = [34500, 30700, 32900, 36000, 34100, 33800, 32500]\n",
    "company_b_salaries = [34900, 27500, 31600, 39700, 35300, 33800, 31700]\n",
    "\n",
    "# Find the mean salary in both companies\n",
    "def get_mean(data: list):\n",
    "    mean = (sum(data))/len(data)\n",
    "    return mean\n",
    "\n",
    "company_a_mean_salary = get_mean(company_a_salaries)\n",
    "company_b_mean_salary = get_mean(company_b_salaries)\n",
    "\n",
    "print(f\"The average salary of Company A employees is ${company_a_mean_salary} and that of Company B employees is ${company_b_mean_salary}\")"
   ]
  },
  {
   "cell_type": "markdown",
   "metadata": {},
   "source": [
    "When measuring spread/dispersion, a good place to start would be to determine how far the observances/data points lie from the mean. (x - mean)."
   ]
  },
  {
   "cell_type": "code",
   "execution_count": 4,
   "metadata": {},
   "outputs": [
    {
     "name": "stdout",
     "output_type": "stream",
     "text": [
      "[1000.0, -2800.0, -600.0, 2500.0, 600.0, 300.0, -1000.0]\n"
     ]
    }
   ],
   "source": [
    "company_a_salaries_differences = []\n",
    "\n",
    "for i in company_a_salaries:\n",
    "    company_a_salaries_difference = i-company_a_mean_salary\n",
    "    company_a_salaries_differences.append(company_a_salaries_difference)\n",
    "\n",
    "print(company_a_salaries_differences)"
   ]
  },
  {
   "cell_type": "markdown",
   "metadata": {},
   "source": [
    "As you can see, some data points result to negative while others remain positive. A negative value shows it was lower than the mean, while a positive value depicts that it was higher than the mean. Adding up the values cancels them out and the result will be 0.\n",
    "\n",
    "However, we are not satisfied with the format of the results. You see, we really couldn't care less whether the values were above or below the mean, our main concern is \"by how much?\". Therefore, those signs really don't mean much and we have to get rid of them.There are two ways you can do this, one being squaring. When we square the values, we get rid of the signs."
   ]
  }
 ],
 "metadata": {
  "kernelspec": {
   "display_name": "Python 3.10.8 64-bit (microsoft store)",
   "language": "python",
   "name": "python3"
  },
  "language_info": {
   "codemirror_mode": {
    "name": "ipython",
    "version": 3
   },
   "file_extension": ".py",
   "mimetype": "text/x-python",
   "name": "python",
   "nbconvert_exporter": "python",
   "pygments_lexer": "ipython3",
   "version": "3.10.8"
  },
  "orig_nbformat": 4,
  "vscode": {
   "interpreter": {
    "hash": "5c41cc7a6bf458ae2af5583a7906ef5f402c759b4882f3cbfc8ede19b81b2d2f"
   }
  }
 },
 "nbformat": 4,
 "nbformat_minor": 2
}
